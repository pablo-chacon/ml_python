
s = set()
for sent in df['Text']:
	def jls_extract_def():
	    for word in sent.split():
	    	s.add(word)
	    return word


	word = jls_extract_def()
	total_words_length=len(s)
	print(total_words_length)

